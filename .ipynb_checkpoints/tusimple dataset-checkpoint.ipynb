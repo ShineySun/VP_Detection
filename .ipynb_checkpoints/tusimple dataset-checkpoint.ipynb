{
 "cells": [
  {
   "cell_type": "code",
   "execution_count": 2,
   "id": "0ff553d9",
   "metadata": {
    "ExecuteTime": {
     "end_time": "2022-01-05T10:23:34.045387Z",
     "start_time": "2022-01-05T10:23:34.036322Z"
    }
   },
   "outputs": [],
   "source": [
    "import torch\n",
    "from torch.utils.data import Dataset\n",
    "from torch.utils.data import DataLoader\n",
    "from torchvision import transforms\n",
    "import numpy as np\n",
    "import os\n",
    "from os import walk\n",
    "import cv2\n",
    "import matplotlib.pyplot as plt\n",
    "import json\n"
   ]
  },
  {
   "cell_type": "code",
   "execution_count": 68,
   "id": "daadd618",
   "metadata": {
    "ExecuteTime": {
     "end_time": "2022-01-05T11:10:30.780242Z",
     "start_time": "2022-01-05T11:10:30.503459Z"
    },
    "scrolled": true
   },
   "outputs": [],
   "source": [
    "train_data_set = []\n",
    "test_data_set = []\n",
    "with open(\"/mnt/srv/home/tusimple/train/label_data_0313.json\") as f:\n",
    "    for line in f :\n",
    "        dic = json.loads(line)\n",
    "        train_data_set.append(dic)\n",
    "with open(\"/mnt/srv/home/tusimple/train/label_data_0531.json\") as f:\n",
    "    for line in f :\n",
    "        dic = json.loads(line)\n",
    "        train_data_set.append(dic)\n",
    "        \n",
    "with open(\"/mnt/srv/home/tusimple/train/label_data_0601.json\") as f:\n",
    "    for line in f :\n",
    "        dic = json.loads(line)\n",
    "        train_data_set.append(dic)\n",
    "        \n",
    "with open(\"/mnt/srv/home/tusimple/test/test_label.json\") as f:\n",
    "    for line in f :\n",
    "        dic = json.loads(line)\n",
    "        test_data_set.append(dic)"
   ]
  },
  {
   "cell_type": "code",
   "execution_count": 69,
   "id": "1bfb54fb",
   "metadata": {
    "ExecuteTime": {
     "end_time": "2022-01-05T11:10:30.787507Z",
     "start_time": "2022-01-05T11:10:30.782711Z"
    }
   },
   "outputs": [],
   "source": [
    "def lane_coordinate(lanes, h_samples):\n",
    "    coordinates = []\n",
    "    for i in range(len(lanes)):\n",
    "        for j in range(len(lanes[i])):\n",
    "            if lanes[i][j] >= 0:\n",
    "                coordinates.append([h_samples[j], lanes[i][j]])\n",
    "    return coordinates"
   ]
  },
  {
   "cell_type": "code",
   "execution_count": 71,
   "id": "40db4bff",
   "metadata": {
    "ExecuteTime": {
     "end_time": "2022-01-05T11:10:31.061881Z",
     "start_time": "2022-01-05T11:10:31.043332Z"
    }
   },
   "outputs": [],
   "source": [
    "class CulaneDataset(Dataset):\n",
    "    def __init__(self, data_set, for_what):\n",
    "        self.data_set = data_set\n",
    "        if for_what == 'train': self.path = \"/mnt/srv/home/tusimple/train\"\n",
    "        elif for_what == 'test': self.path = \"/mnt/srv/home/tusimple/test\"\n",
    "        self.transform = transforms.Compose([\n",
    "            transforms.ToPILImage(), \n",
    "            transforms.ToTensor(),\n",
    "            transforms.Normalize(mean=[0.485, 0.456, 0.406] , std = [0.229, 0.224, 0.225]) # culane데이터\n",
    "        ])\n",
    "        \n",
    "    def __getitem__(self, index):\n",
    "        data_item = self.data_set[index]\n",
    "        img = cv2.imread(os.path.join(self.path, data_item[\"raw_file\"]))    \n",
    "        img_rgb = cv2.cvtColor(img, cv2.COLOR_BGR2RGB)\n",
    "        img_rgb = self.transform(img_rgb)\n",
    "        coordinates = lane_coordinate(data_item['lanes'], data_item['h_samples'])\n",
    "        label = torch.from_numpy(np.array(coordinates, dtype='float32'))\n",
    "        sample = {\n",
    "            \"data\":img_rgb,\n",
    "            \"target\":label\n",
    "        }\n",
    "        return sample\n",
    "    \n",
    "    def __len__(self):\n",
    "        return len(self.data_set)"
   ]
  },
  {
   "cell_type": "code",
   "execution_count": 72,
   "id": "7ba9a264",
   "metadata": {
    "ExecuteTime": {
     "end_time": "2022-01-05T11:10:31.262046Z",
     "start_time": "2022-01-05T11:10:31.255619Z"
    }
   },
   "outputs": [],
   "source": [
    "train_data = CulaneDataset(train_data_set, 'train')\n",
    "test_data = CulaneDataset(test_data_set, 'test')"
   ]
  }
 ],
 "metadata": {
  "kernelspec": {
   "display_name": "Python 3 (Notebook)",
   "language": "python",
   "name": "python3"
  },
  "language_info": {
   "codemirror_mode": {
    "name": "ipython",
    "version": 3
   },
   "file_extension": ".py",
   "mimetype": "text/x-python",
   "name": "python",
   "nbconvert_exporter": "python",
   "pygments_lexer": "ipython3",
   "version": "3.6.13"
  },
  "latex_envs": {
   "LaTeX_envs_menu_present": true,
   "autoclose": false,
   "autocomplete": true,
   "bibliofile": "biblio.bib",
   "cite_by": "apalike",
   "current_citInitial": 1,
   "eqLabelWithNumbers": true,
   "eqNumInitial": 1,
   "hotkeys": {
    "equation": "Ctrl-E",
    "itemize": "Ctrl-I"
   },
   "labels_anchors": false,
   "latex_user_defs": false,
   "report_style_numbering": false,
   "user_envs_cfg": false
  }
 },
 "nbformat": 4,
 "nbformat_minor": 5
}
