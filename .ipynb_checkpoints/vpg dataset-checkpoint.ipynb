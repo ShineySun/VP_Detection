{
 "cells": [
  {
   "cell_type": "code",
   "execution_count": 1,
   "id": "f3c78a89",
   "metadata": {
    "ExecuteTime": {
     "end_time": "2022-01-06T09:23:17.233260Z",
     "start_time": "2022-01-06T09:23:16.760642Z"
    }
   },
   "outputs": [],
   "source": [
    "from scipy import io\n",
    "mat_file = io.loadmat('/mnt/srv/home/vpgnet_dataset/scene_1/20160808_1442_30/000031.mat')\n",
    "data = mat_file['rgb_seg_vp']"
   ]
  },
  {
   "cell_type": "code",
   "execution_count": 8,
   "id": "2ae7a3ab",
   "metadata": {
    "ExecuteTime": {
     "end_time": "2022-01-06T09:24:25.976754Z",
     "start_time": "2022-01-06T09:24:25.972479Z"
    }
   },
   "outputs": [
    {
     "data": {
      "text/plain": [
       "(480, 640, 5)"
      ]
     },
     "execution_count": 8,
     "metadata": {},
     "output_type": "execute_result"
    }
   ],
   "source": [
    "data.shape \n",
    "# 1,2,3 채널은 RGB이미지, 4채널은 segmentation, 5채널은 vanishing point"
   ]
  },
  {
   "cell_type": "markdown",
   "id": "1bfef904",
   "metadata": {},
   "source": [
    "### Lane and road markings (4th channel) ###\n",
    "0\tbackground\n",
    "1\tlane_solid_white\n",
    "2\tlane_broken_white\n",
    "3\tlane_double_white\n",
    "4\tlane_solid_yellow\n",
    "5\tlane_broken_yellow\n",
    "6\tlane_double_yellow\n",
    "7\tlane_broken_blue\n",
    "8\tlane_slow\n",
    "9\tstop_line\n",
    "10\tarrow_left\n",
    "11\tarrow_right\n",
    "12\tarrow_go_straight\n",
    "13\tarrow_u_turn\n",
    "14\tspeed_bump\n",
    "15\tcrossWalk\n",
    "16\tsafety_zone\n",
    "17\tother_road_markings\n",
    "\n",
    "### Vanishing Points (5th channel) ###\n",
    "0\tnone/background\n",
    "1\teasy\n",
    "2\thard"
   ]
  },
  {
   "cell_type": "code",
   "execution_count": 18,
   "id": "ddd74814",
   "metadata": {
    "ExecuteTime": {
     "end_time": "2022-01-06T09:33:56.685575Z",
     "start_time": "2022-01-06T09:33:56.674187Z"
    }
   },
   "outputs": [
    {
     "data": {
      "text/plain": [
       "array([[0, 0, 0, ..., 0, 0, 0],\n",
       "       [0, 0, 0, ..., 0, 0, 0],\n",
       "       [0, 0, 0, ..., 0, 0, 0],\n",
       "       ...,\n",
       "       [0, 0, 0, ..., 0, 0, 0],\n",
       "       [0, 0, 0, ..., 0, 0, 0],\n",
       "       [0, 0, 0, ..., 0, 0, 0]], dtype=uint8)"
      ]
     },
     "execution_count": 18,
     "metadata": {},
     "output_type": "execute_result"
    }
   ],
   "source": [
    "data[:,:,4]"
   ]
  }
 ],
 "metadata": {
  "kernelspec": {
   "display_name": "Python 3 (Notebook)",
   "language": "python",
   "name": "python3"
  },
  "language_info": {
   "codemirror_mode": {
    "name": "ipython",
    "version": 3
   },
   "file_extension": ".py",
   "mimetype": "text/x-python",
   "name": "python",
   "nbconvert_exporter": "python",
   "pygments_lexer": "ipython3",
   "version": "3.6.13"
  },
  "latex_envs": {
   "LaTeX_envs_menu_present": true,
   "autoclose": false,
   "autocomplete": true,
   "bibliofile": "biblio.bib",
   "cite_by": "apalike",
   "current_citInitial": 1,
   "eqLabelWithNumbers": true,
   "eqNumInitial": 1,
   "hotkeys": {
    "equation": "Ctrl-E",
    "itemize": "Ctrl-I"
   },
   "labels_anchors": false,
   "latex_user_defs": false,
   "report_style_numbering": false,
   "user_envs_cfg": false
  }
 },
 "nbformat": 4,
 "nbformat_minor": 5
}
