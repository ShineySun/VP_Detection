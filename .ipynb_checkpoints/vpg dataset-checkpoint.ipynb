{
 "cells": [
  {
   "cell_type": "code",
   "execution_count": 161,
   "id": "f3c78a89",
   "metadata": {
    "ExecuteTime": {
     "end_time": "2022-01-07T07:53:52.830280Z",
     "start_time": "2022-01-07T07:53:52.824794Z"
    },
    "scrolled": false
   },
   "outputs": [],
   "source": [
    "import numpy as np\n",
    "from scipy import io\n",
    "import os\n",
    "import glob"
   ]
  },
  {
   "cell_type": "code",
   "execution_count": 162,
   "id": "c8239858",
   "metadata": {
    "ExecuteTime": {
     "end_time": "2022-01-07T07:53:59.540576Z",
     "start_time": "2022-01-07T07:53:58.457118Z"
    }
   },
   "outputs": [],
   "source": [
    "path = '/mnt/srv/home/vpgnet_dataset'\n",
    "\n",
    "scene_list = ['scene_1/*', 'scene_2/*', 'scene_3/*']\n",
    "train_files = []\n",
    "valid_files = []\n",
    "for i in scene_list: # train file name list\n",
    "    path_scene = os.path.join(path, i)\n",
    "    tmp = [f+'/*' for f in glob.glob(path_scene)]\n",
    "    for f in tmp:\n",
    "        train_files.extend(glob.glob(f))\n",
    "    \n",
    "path_scene = os.path.join(path, 'scene_4/*') # valid file name list\n",
    "tmp = [f+'/*' for f in glob.glob(path_scene)]\n",
    "for f in tmp:\n",
    "    valid_files.extend(glob.glob(f))"
   ]
  },
  {
   "cell_type": "code",
   "execution_count": 163,
   "id": "8473418c",
   "metadata": {
    "ExecuteTime": {
     "end_time": "2022-01-07T07:53:59.553475Z",
     "start_time": "2022-01-07T07:53:59.545215Z"
    },
    "scrolled": false
   },
   "outputs": [
    {
     "data": {
      "text/plain": [
       "(18203, 2633)"
      ]
     },
     "execution_count": 163,
     "metadata": {},
     "output_type": "execute_result"
    }
   ],
   "source": [
    "len(train_files), len(valid_files)"
   ]
  },
  {
   "cell_type": "code",
   "execution_count": 180,
   "id": "a9741593",
   "metadata": {
    "ExecuteTime": {
     "end_time": "2022-01-07T07:57:04.623106Z",
     "start_time": "2022-01-07T07:57:04.595716Z"
    },
    "scrolled": true
   },
   "outputs": [
    {
     "data": {
      "text/plain": [
       "(480, 640, 5)"
      ]
     },
     "execution_count": 180,
     "metadata": {},
     "output_type": "execute_result"
    }
   ],
   "source": [
    "mat_file = io.loadmat(valid_files[10])\n",
    "data = mat_file['rgb_seg_vp']\n",
    "data.shape\n",
    "# 1,2,3 채널은 RGB이미지, 4채널은 segmentation, 5채널은 vanishing point"
   ]
  },
  {
   "cell_type": "markdown",
   "id": "1bfef904",
   "metadata": {},
   "source": [
    "### Lane and road markings (4th channel) ###\n",
    "0.\tbackground\n",
    "1.\tlane_solid_white\n",
    "2.\tlane_broken_white\n",
    "3.\tlane_double_white\n",
    "4.\tlane_solid_yellow\n",
    "5.\tlane_broken_yellow\n",
    "6.\tlane_double_yellow\n",
    "7.\tlane_broken_blue\n",
    "8.\tlane_slow\n",
    "9.\tstop_line\n",
    "10.\tarrow_left\n",
    "11.\tarrow_right\n",
    "12.\tarrow_go_straight\n",
    "13.\tarrow_u_turn\n",
    "14.\tspeed_bump\n",
    "15.\tcrossWalk\n",
    "16.\tsafety_zone\n",
    "17.\tother_road_markings\n",
    "\n",
    "### Vanishing Points (5th channel) ###\n",
    "0.\tnone/background\n",
    "1.\teasy:명확한 vp \n",
    "2. hard:명확하지 않은 vp "
   ]
  },
  {
   "cell_type": "markdown",
   "id": "703a393e",
   "metadata": {},
   "source": [
    "### 고민할점\n",
    "- lane key point가 아니라 segment label임... \n",
    "- 만약 사용한다면 segment label중 1,2,3,4,5,6,7 다 사용할것인가?"
   ]
  },
  {
   "cell_type": "code",
   "execution_count": 192,
   "id": "6cd6d4a9",
   "metadata": {
    "ExecuteTime": {
     "end_time": "2022-01-07T08:18:45.163802Z",
     "start_time": "2022-01-07T08:18:13.171136Z"
    }
   },
   "outputs": [],
   "source": [
    "label_seg = []\n",
    "vp_gt = []\n",
    "rgb_img = []\n",
    "for i in valid_files:\n",
    "    mat_file = io.loadmat(i)\n",
    "    data = mat_file['rgb_seg_vp']\n",
    "    \n",
    "    rgb_img.append(data[:,:,:3])\n",
    "    \n",
    "    label_seg_tmp = data[:,:,3]\n",
    "    label_seg_tmp = np.where(label_seg_tmp==3, 0, label_seg_tmp)\n",
    "    label_seg_tmp = np.where(label_seg_tmp==6, 0, label_seg_tmp)\n",
    "    label_seg_tmp = np.where(label_seg_tmp>=8, 0, label_seg_tmp)\n",
    "    label_seg_tmp = np.where(label_seg_tmp>2, 1, label_seg_tmp)\n",
    "    label_seg.append(label_seg_tmp)\n",
    "    \n",
    "    vp_gt_tmp = data[:,:,4]\n",
    "    vp_gt_tmp = np.where(vp_gt_tmp>2, 1, vp_gt_tmp)\n",
    "    vp_gt.append(vp_gt_tmp)\n",
    "rgb_img = np.array(rgb_img)\n",
    "label_seg = np.array(label_seg)\n",
    "vp_gt = np.array(vp_gt)"
   ]
  },
  {
   "cell_type": "code",
   "execution_count": 195,
   "id": "28ca172b",
   "metadata": {
    "ExecuteTime": {
     "end_time": "2022-01-07T08:19:37.333804Z",
     "start_time": "2022-01-07T08:19:37.324398Z"
    }
   },
   "outputs": [
    {
     "data": {
      "text/plain": [
       "((2633, 480, 640, 3), (2633, 480, 640), (2633, 480, 640))"
      ]
     },
     "execution_count": 195,
     "metadata": {},
     "output_type": "execute_result"
    }
   ],
   "source": [
    "rgb_img.shape, label_seg.shape, vp_gt.shape"
   ]
  }
 ],
 "metadata": {
  "kernelspec": {
   "display_name": "Python 3 (Notebook)",
   "language": "python",
   "name": "python3"
  },
  "language_info": {
   "codemirror_mode": {
    "name": "ipython",
    "version": 3
   },
   "file_extension": ".py",
   "mimetype": "text/x-python",
   "name": "python",
   "nbconvert_exporter": "python",
   "pygments_lexer": "ipython3",
   "version": "3.6.13"
  },
  "latex_envs": {
   "LaTeX_envs_menu_present": true,
   "autoclose": false,
   "autocomplete": true,
   "bibliofile": "biblio.bib",
   "cite_by": "apalike",
   "current_citInitial": 1,
   "eqLabelWithNumbers": true,
   "eqNumInitial": 1,
   "hotkeys": {
    "equation": "Ctrl-E",
    "itemize": "Ctrl-I"
   },
   "labels_anchors": false,
   "latex_user_defs": false,
   "report_style_numbering": false,
   "user_envs_cfg": false
  }
 },
 "nbformat": 4,
 "nbformat_minor": 5
}
