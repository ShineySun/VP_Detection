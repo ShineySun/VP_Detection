{
 "cells": [
  {
   "cell_type": "markdown",
   "id": "1bfef904",
   "metadata": {},
   "source": [
    "### Lane and road markings (4th channel) ###\n",
    "0.\tbackground\n",
    "1.\tlane_solid_white\n",
    "2.\tlane_broken_white\n",
    "3.\tlane_double_white\n",
    "4.\tlane_solid_yellow\n",
    "5.\tlane_broken_yellow\n",
    "6.\tlane_double_yellow\n",
    "7.\tlane_broken_blue\n",
    "8.\tlane_slow\n",
    "9.\tstop_line\n",
    "10.\tarrow_left\n",
    "11.\tarrow_right\n",
    "12.\tarrow_go_straight\n",
    "13.\tarrow_u_turn\n",
    "14.\tspeed_bump\n",
    "15.\tcrossWalk\n",
    "16.\tsafety_zone\n",
    "17.\tother_road_markings\n",
    "\n",
    "### Vanishing Points (5th channel) ###\n",
    "0.\tnone/background\n",
    "1.\teasy:명확한 vp \n",
    "2. hard:명확하지 않은 vp "
   ]
  },
  {
   "cell_type": "code",
   "execution_count": 211,
   "id": "f3c78a89",
   "metadata": {
    "ExecuteTime": {
     "end_time": "2022-01-07T08:33:40.753830Z",
     "start_time": "2022-01-07T08:33:40.748330Z"
    },
    "scrolled": false
   },
   "outputs": [],
   "source": [
    "import numpy as np\n",
    "from scipy import io\n",
    "import os\n",
    "import glob"
   ]
  },
  {
   "cell_type": "code",
   "execution_count": 225,
   "id": "8a27f8b9",
   "metadata": {
    "ExecuteTime": {
     "end_time": "2022-01-07T09:53:03.052037Z",
     "start_time": "2022-01-07T09:53:01.492804Z"
    }
   },
   "outputs": [],
   "source": [
    "path = '/mnt/srv/home/vpgnet_dataset'\n",
    "\n",
    "scene_list = ['scene_1/*', 'scene_2/*']\n",
    "train_files = []\n",
    "valid_files = []\n",
    "test_files = []\n",
    "for i in scene_list: # train file name list\n",
    "    path_scene = os.path.join(path, i)\n",
    "    tmp = [f+'/*' for f in glob.glob(path_scene)]\n",
    "    for f in tmp:\n",
    "        train_files.extend(glob.glob(f))\n",
    "\n",
    "path_scene = os.path.join(path, 'scene_3/*') # valid file name list\n",
    "tmp = [f+'/*' for f in glob.glob(path_scene)]\n",
    "for f in tmp:\n",
    "    valid_files.extend(glob.glob(f))\n",
    "    \n",
    "path_scene = os.path.join(path, 'scene_4/*') # valid file name list\n",
    "tmp = [f+'/*' for f in glob.glob(path_scene)]\n",
    "for f in tmp:\n",
    "    test_files.extend(glob.glob(f))"
   ]
  },
  {
   "cell_type": "code",
   "execution_count": 226,
   "id": "bfbb1011",
   "metadata": {
    "ExecuteTime": {
     "end_time": "2022-01-07T09:53:03.064815Z",
     "start_time": "2022-01-07T09:53:03.056823Z"
    },
    "scrolled": true
   },
   "outputs": [
    {
     "data": {
      "text/plain": [
       "(17385, 818, 2633)"
      ]
     },
     "execution_count": 226,
     "metadata": {},
     "output_type": "execute_result"
    }
   ],
   "source": [
    "len(train_files), len(valid_files), len(test_files)"
   ]
  },
  {
   "cell_type": "code",
   "execution_count": 231,
   "id": "0b644ac0",
   "metadata": {
    "ExecuteTime": {
     "end_time": "2022-01-07T10:39:16.247478Z",
     "start_time": "2022-01-07T10:39:16.239736Z"
    }
   },
   "outputs": [
    {
     "data": {
      "text/plain": [
       "'/mnt/srv/home/vpgnet_dataset/scene_3/20160503_0943_14/000271.mat'"
      ]
     },
     "execution_count": 231,
     "metadata": {},
     "output_type": "execute_result"
    }
   ],
   "source": [
    "valid_files[9]"
   ]
  },
  {
   "cell_type": "code",
   "execution_count": 214,
   "id": "9e6233db",
   "metadata": {
    "ExecuteTime": {
     "end_time": "2022-01-07T08:33:44.077484Z",
     "start_time": "2022-01-07T08:33:44.049510Z"
    },
    "scrolled": true
   },
   "outputs": [
    {
     "data": {
      "text/plain": [
       "(480, 640, 5)"
      ]
     },
     "execution_count": 214,
     "metadata": {},
     "output_type": "execute_result"
    }
   ],
   "source": [
    "mat_file = io.loadmat(valid_files[10])\n",
    "data = mat_file['rgb_seg_vp']\n",
    "data.shape\n",
    "# 1,2,3 채널은 RGB이미지, 4채널은 segmentation, 5채널은 vanishing point"
   ]
  },
  {
   "cell_type": "markdown",
   "id": "703a393e",
   "metadata": {},
   "source": [
    "### 고민할점\n",
    "- lane key point가 아니라 segment label임... \n",
    "- 만약 사용한다면 segment label중 1,2,3,4,5,6,7 다 사용할것인가?"
   ]
  },
  {
   "cell_type": "code",
   "execution_count": 240,
   "id": "6146d918",
   "metadata": {
    "ExecuteTime": {
     "end_time": "2022-01-07T10:51:21.424788Z",
     "start_time": "2022-01-07T10:51:10.878183Z"
    }
   },
   "outputs": [],
   "source": [
    "label_seg = []\n",
    "vp_gt = []\n",
    "rgb_img = []\n",
    "for i in valid_files:\n",
    "    mat_file = io.loadmat(i)\n",
    "    data = mat_file['rgb_seg_vp']\n",
    "    rgb_img.append(data[:,:,:3])\n",
    "    label_seg_tmp = data[:,:,3]\n",
    "    label_seg.append(np.where((label_seg_tmp==1) | (label_seg_tmp==2) | (label_seg_tmp==4) | (label_seg_tmp==5) | (label_seg_tmp==7)))\n",
    "    vp_gt_tmp = data[:,:,4]\n",
    "    vp_gt.append(np.where(vp_gt_tmp>=1))\n",
    "    \n",
    "rgb_img = np.array(rgb_img)\n",
    "label_seg = np.array(label_seg)\n",
    "vp_gt = np.array(vp_gt)"
   ]
  },
  {
   "cell_type": "code",
   "execution_count": 241,
   "id": "e39708de",
   "metadata": {
    "ExecuteTime": {
     "end_time": "2022-01-07T10:51:21.435801Z",
     "start_time": "2022-01-07T10:51:21.427214Z"
    }
   },
   "outputs": [
    {
     "data": {
      "text/plain": [
       "((818, 480, 640, 3), (818, 2), (818, 2))"
      ]
     },
     "execution_count": 241,
     "metadata": {},
     "output_type": "execute_result"
    }
   ],
   "source": [
    "rgb_img.shape, label_seg.shape, vp_gt.shape"
   ]
  },
  {
   "cell_type": "code",
   "execution_count": 242,
   "id": "ffeda4c1",
   "metadata": {
    "ExecuteTime": {
     "end_time": "2022-01-07T10:51:21.448060Z",
     "start_time": "2022-01-07T10:51:21.441115Z"
    },
    "scrolled": true
   },
   "outputs": [
    {
     "data": {
      "text/plain": [
       "818"
      ]
     },
     "execution_count": 242,
     "metadata": {},
     "output_type": "execute_result"
    }
   ],
   "source": [
    "rgb_img.shape[0]"
   ]
  },
  {
   "cell_type": "code",
   "execution_count": 251,
   "id": "6eccb734",
   "metadata": {
    "ExecuteTime": {
     "end_time": "2022-01-07T10:54:00.182438Z",
     "start_time": "2022-01-07T10:54:00.170842Z"
    }
   },
   "outputs": [
    {
     "data": {
      "text/plain": [
       "array([[array([189]), array([355])],\n",
       "       [array([178]), array([339])],\n",
       "       [array([188]), array([332])],\n",
       "       ...,\n",
       "       [array([], dtype=int64), array([], dtype=int64)],\n",
       "       [array([200]), array([620])],\n",
       "       [array([186]), array([423])]], dtype=object)"
      ]
     },
     "execution_count": 251,
     "metadata": {},
     "output_type": "execute_result"
    }
   ],
   "source": [
    "vp_gt"
   ]
  },
  {
   "cell_type": "code",
   "execution_count": 252,
   "id": "f1f6d3f2",
   "metadata": {
    "ExecuteTime": {
     "end_time": "2022-01-07T10:54:07.674605Z",
     "start_time": "2022-01-07T10:54:07.665719Z"
    }
   },
   "outputs": [
    {
     "data": {
      "text/plain": [
       "(189, 355)"
      ]
     },
     "execution_count": 252,
     "metadata": {},
     "output_type": "execute_result"
    }
   ],
   "source": [
    "vp_gt[0][0][0], vp_gt[0][1][0]"
   ]
  }
 ],
 "metadata": {
  "kernelspec": {
   "display_name": "Python 3 (Notebook)",
   "language": "python",
   "name": "python3"
  },
  "language_info": {
   "codemirror_mode": {
    "name": "ipython",
    "version": 3
   },
   "file_extension": ".py",
   "mimetype": "text/x-python",
   "name": "python",
   "nbconvert_exporter": "python",
   "pygments_lexer": "ipython3",
   "version": "3.6.13"
  },
  "latex_envs": {
   "LaTeX_envs_menu_present": true,
   "autoclose": false,
   "autocomplete": true,
   "bibliofile": "biblio.bib",
   "cite_by": "apalike",
   "current_citInitial": 1,
   "eqLabelWithNumbers": true,
   "eqNumInitial": 1,
   "hotkeys": {
    "equation": "Ctrl-E",
    "itemize": "Ctrl-I"
   },
   "labels_anchors": false,
   "latex_user_defs": false,
   "report_style_numbering": false,
   "user_envs_cfg": false
  }
 },
 "nbformat": 4,
 "nbformat_minor": 5
}
